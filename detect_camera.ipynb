{
 "cells": [
  {
   "cell_type": "code",
   "execution_count": null,
   "id": "c2fc6eea",
   "metadata": {},
   "outputs": [],
   "source": [
    "import numpy as np\n",
    "import cv2"
   ]
  },
  {
   "cell_type": "code",
   "execution_count": null,
   "id": "21159e6f",
   "metadata": {},
   "outputs": [],
   "source": [
    "cap = cv2.VideoCapture(0)\n",
    "while(cap.isOpened()):\n",
    "      \n",
    "    while True:\n",
    "          \n",
    "        ret, img = cap.read()\n",
    "        cv2.imshow('img', img)\n",
    "        if cv2.waitKey(30) & 0xff == ord('q'):\n",
    "            break\n",
    "    \n",
    "    cap.release()\n",
    "    cv2.destroyAllWindows()\n",
    "else:\n",
    "    print(\"Alert ! Camera disconnected\")"
   ]
  },
  {
   "cell_type": "code",
   "execution_count": null,
   "id": "ef0a337a",
   "metadata": {},
   "outputs": [],
   "source": [
    "# Python program to send \n",
    "# the mail \n",
    "import smtplib"
   ]
  },
  {
   "cell_type": "code",
   "execution_count": null,
   "id": "5f66df6c",
   "metadata": {},
   "outputs": [],
   "source": [
    "# conn = smtplib.SMTP('smtp.gmail.com', 587)\n",
    "  \n",
    "# conn.ehlo()\n",
    "# conn.starttls()\n",
    "  \n",
    "# # Enter the sender's details\n",
    "# conn.login('Enter sender \\'s gmail address', \n",
    "#            'Enter sender\\'s password')\n",
    "  \n",
    "# conn.sendmail('Enter sender\\'s gmail address', \n",
    "#               'Enter Receiver\\'s gmail address', \n",
    "#               'Enter message to be sent')\n",
    "  \n",
    "# conn.quit()"
   ]
  },
  {
   "cell_type": "code",
   "execution_count": null,
   "id": "a862d7ff",
   "metadata": {},
   "outputs": [],
   "source": [
    "conn = smtplib.SMTP('smtp.gmail.com', 66)\n",
    "\n",
    "conn = smtplib.SMTP('smtp.gmail.com', 587)\n",
    "  \n",
    "conn.ehlo()\n",
    "conn.starttls()\n",
    "  \n",
    "# Enter the sender's details\n",
    "conn.login('mdebone@gmail.com', \n",
    "           'wO9iB1xN5iE7yV ')\n",
    "  \n",
    "conn.sendmail('mdebone@gmail.com', \n",
    "              'debonenest19@gmail.com', \n",
    "              'Camera has been detected')\n",
    "  \n",
    "conn.quit()"
   ]
  },
  {
   "cell_type": "code",
   "execution_count": null,
   "id": "7ea68dd8",
   "metadata": {},
   "outputs": [],
   "source": []
  },
  {
   "cell_type": "code",
   "execution_count": null,
   "id": "630a4e79",
   "metadata": {},
   "outputs": [],
   "source": []
  }
 ],
 "metadata": {
  "kernelspec": {
   "display_name": "Python 3 (ipykernel)",
   "language": "python",
   "name": "python3"
  },
  "language_info": {
   "codemirror_mode": {
    "name": "ipython",
    "version": 3
   },
   "file_extension": ".py",
   "mimetype": "text/x-python",
   "name": "python",
   "nbconvert_exporter": "python",
   "pygments_lexer": "ipython3",
   "version": "3.8.8"
  }
 },
 "nbformat": 4,
 "nbformat_minor": 5
}
